{
 "cells": [
  {
   "cell_type": "markdown",
   "metadata": {},
   "source": [
    "### About\n",
    "\n",
    "In this very simple example, we would like to calculate the Higgs recoil mass on Higgsstrahlung events (e+e- ---> ZH) with Z->mumu.\n",
    "\n",
    "### Data\n",
    "Please download these files from [here](https://sas.desy.de/index.php/s/eBYsECq4sN6NGkP):\n",
    "  * Signal: `E250-TDR_ws.Pe2e2h.Gwhizard-1_95.eL.pR.I106479.001.edm4hep.root`\n",
    "  * Background: `E250-TDR_ws.P4f_zz_sl.Gwhizard-1_95.eL.pR.I106575.001.edm4hep.root`\n",
    "  \n",
    "Create a folder called `data` in the root directory of this repository. Then put into separate foldes `signal`and `bgk`"
   ]
  },
  {
   "cell_type": "markdown",
   "metadata": {},
   "source": [
    "### Imports"
   ]
  },
  {
   "cell_type": "code",
   "execution_count": 2,
   "metadata": {},
   "outputs": [
    {
     "data": {
      "text/plain": [
       "2"
      ]
     },
     "execution_count": 2,
     "metadata": {},
     "output_type": "execute_result"
    }
   ],
   "source": [
    "1+1"
   ]
  },
  {
   "cell_type": "code",
   "execution_count": 5,
   "metadata": {},
   "outputs": [
    {
     "ename": "AttributeError",
     "evalue": "<namespace cppyy.gbl.edm4hep at 0x5f645fdebdd0> has no attribute 'utils'. Full details:\n  type object 'edm4hep' has no attribute 'utils'\n  'edm4hep::utils' is not a known C++ class\n  'utils' is not a known C++ template\n  'utils' is not a known C++ enum",
     "output_type": "error",
     "traceback": [
      "\u001b[0;31m---------------------------------------------------------------------------\u001b[0m",
      "\u001b[0;31mAttributeError\u001b[0m                            Traceback (most recent call last)",
      "Cell \u001b[0;32mIn[5], line 11\u001b[0m\n\u001b[1;32m      8\u001b[0m \u001b[38;5;28;01mfrom\u001b[39;00m \u001b[38;5;21;01mpodio\u001b[39;00m\u001b[38;5;21;01m.\u001b[39;00m\u001b[38;5;21;01mroot_io\u001b[39;00m \u001b[38;5;28;01mimport\u001b[39;00m Reader\n\u001b[1;32m     10\u001b[0m ROOT\u001b[38;5;241m.\u001b[39mgInterpreter\u001b[38;5;241m.\u001b[39mLoadFile(\u001b[38;5;124m\"\u001b[39m\u001b[38;5;124m/include/edm4hep/utils/kinematics.h\u001b[39m\u001b[38;5;124m\"\u001b[39m)\n\u001b[0;32m---> 11\u001b[0m USE_ENERGY\u001b[38;5;241m=\u001b[39m\u001b[43medm4hep\u001b[49m\u001b[38;5;241;43m.\u001b[39;49m\u001b[43mutils\u001b[49m\u001b[38;5;241m.\u001b[39mdetail\u001b[38;5;241m.\u001b[39mUseEnergyTag()\n",
      "\u001b[0;31mAttributeError\u001b[0m: <namespace cppyy.gbl.edm4hep at 0x5f645fdebdd0> has no attribute 'utils'. Full details:\n  type object 'edm4hep' has no attribute 'utils'\n  'edm4hep::utils' is not a known C++ class\n  'utils' is not a known C++ template\n  'utils' is not a known C++ enum"
     ]
    }
   ],
   "source": [
    "import ROOT\n",
    "from ROOT import edm4hep\n",
    "import numpy as np\n",
    "import os\n",
    "from os import listdir\n",
    "from edm4hep_path import get_edm4hep_path\n",
    "from podio.root_io import Reader\n",
    "\n",
    "ROOT.gInterpreter.LoadFile(get_edm4hep_path()+\"/include/edm4hep/utils/kinematics.h\")\n",
    "USE_ENERGY=edm4hep.utils.detail.UseEnergyTag()"
   ]
  },
  {
   "cell_type": "markdown",
   "metadata": {},
   "source": [
    "### Event Loop"
   ]
  },
  {
   "cell_type": "code",
   "execution_count": null,
   "metadata": {},
   "outputs": [],
   "source": [
    "def doEvtLoop(inputfiles,nbin,xmin,xmax,histtag,title):\n",
    "    \n",
    "    reader = Reader(inputfiles)\n",
    "    hist = ROOT.TH1F(histtag,title,nbin,xmin,xmax)\n",
    "\n",
    "    pxinitial = 0.\n",
    "    Einitial = 250. # considering resonance here\n",
    "    angle = 0.007 # crossing angle parameter, change as needed\n",
    "\n",
    "    pxinitial = Einitial*angle\n",
    "    Einitial = 2.*np.sqrt((Einitial/2.)**2 + (pxinitial/2.)**2)\n",
    "        \n",
    "    ecms = edm4hep.LorentzVectorE(pxinitial,0.,0.,Einitial)\n",
    "\n",
    "\n",
    "    for i, event in enumerate(reader.get('events')):            \n",
    "        \n",
    "        ## HANDS-ON!!\n",
    "        # We need to get the muon collection. \n",
    "        # Then we should put a cut: Take events with exactly TWO muons\n",
    "        # Use edmp4hep utils p4: This will put mu1 and mu2 into 4-vector\n",
    " \n",
    "        \n",
    "        # recoil mass calculations\n",
    "        recoil = ecms - (mu1 + mu2)\n",
    "        hist.Fill(recoil.M())\n",
    "        \n",
    "    return hist\n",
    "\n"
   ]
  },
  {
   "cell_type": "markdown",
   "metadata": {},
   "source": [
    "### Running over samples"
   ]
  },
  {
   "cell_type": "code",
   "execution_count": null,
   "metadata": {},
   "outputs": [],
   "source": [
    "signalDir = '../data/signal/E250-TDR_ws.Pe2e2h.Gwhizard-1_95.eL.pR.I106479.001.edm4hep.root'\n",
    "bkgDir = '../data/bgk/E250-TDR_ws.P4f_zz_sl.Gwhizard-1_95.eL.pR.I106575.001.edm4hep.root'\n",
    "\n",
    "sig_hist = doEvtLoop(signalDir,40,50.,250.,\"signal\",\"; mass [GeV]; ; \")\n",
    "bkg_hist = doEvtLoop(bkgDir,40,50.,250.,\"bkg\", \"; mass [GeV]; ; \")"
   ]
  },
  {
   "cell_type": "markdown",
   "metadata": {},
   "source": [
    "### Draw via ROOT"
   ]
  },
  {
   "cell_type": "code",
   "execution_count": null,
   "metadata": {},
   "outputs": [],
   "source": [
    "c1 = ROOT.TCanvas()\n",
    "sig_hist.Draw()\n",
    "hs = ROOT.THStack(\"hs\",\"; mass [GeV]; ; \")\n",
    "leg = ROOT.TLegend(0.5,0.6,0.9,0.9)\n",
    "leg.SetHeader(\"ILC at 250 GeV\")\n",
    "sig_hist.SetFillColor(2)\n",
    "leg.AddEntry(sig_hist, \"Signal\", \"F\")\n",
    "bkg_hist.SetFillColor(4)\n",
    "leg.AddEntry(bkg_hist, \"Bkg.\",\"F\")\n",
    "hs.Add(bkg_hist)\n",
    "hs.Add(sig_hist)\n",
    "hs.Draw()\n",
    "leg.Draw()\n",
    "c1.Draw()\n"
   ]
  },
  {
   "cell_type": "code",
   "execution_count": null,
   "metadata": {},
   "outputs": [],
   "source": []
  }
 ],
 "metadata": {
  "kernelspec": {
   "display_name": "Python 3 (ipykernel)",
   "language": "python",
   "name": "python3"
  },
  "language_info": {
   "codemirror_mode": {
    "name": "ipython",
    "version": 3
   },
   "file_extension": ".py",
   "mimetype": "text/x-python",
   "name": "python",
   "nbconvert_exporter": "python",
   "pygments_lexer": "ipython3",
   "version": "3.10.13"
  }
 },
 "nbformat": 4,
 "nbformat_minor": 4
}
