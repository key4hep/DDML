{
 "cells": [
  {
   "cell_type": "markdown",
   "id": "cec246c4-1516-46c0-97f6-6afab8afe083",
   "metadata": {
    "tags": []
   },
   "source": [
    "### About\n",
    "\n",
    "In this very simple example, we would like to calculate the Higgs recoil mass on Higgsstrahlung events (e+e- ---> ZH) with Z->mumu.\n",
    "\n",
    "### Data\n",
    "Please download these files from [here](https://sas.desy.de/index.php/s/eBYsECq4sN6NGkP):\n",
    "  * Signal: `E250-TDR_ws.Pe2e2h.Gwhizard-1_95.eL.pR.I106479.001.edm4hep.root`\n",
    "  * Background: `E250-TDR_ws.P4f_zz_sl.Gwhizard-1_95.eL.pR.I106575.001.edm4hep.root`\n",
    "  \n",
    "Create a folder called `data` in the root directory of this repository. Then put into separate foldes `signal`and `bgk`"
   ]
  },
  {
   "cell_type": "markdown",
   "id": "4265bf77-321b-4110-926c-3b00d4d80f00",
   "metadata": {},
   "source": [
    "### Imports"
   ]
  },
  {
   "cell_type": "code",
   "execution_count": 1,
   "id": "a1be1e20",
   "metadata": {},
   "outputs": [
    {
     "data": {
      "text/plain": [
       "2"
      ]
     },
     "execution_count": 1,
     "metadata": {},
     "output_type": "execute_result"
    }
   ],
   "source": [
    "1+1"
   ]
  },
  {
   "cell_type": "code",
   "execution_count": 2,
   "id": "845e9117-9256-419f-b3f1-298891ec7a3a",
   "metadata": {},
   "outputs": [
    {
     "name": "stdout",
     "output_type": "stream",
     "text": [
      "Welcome to JupyROOT 6.28/10\n"
     ]
    }
   ],
   "source": [
    "import ROOT\n",
    "from ROOT import edm4hep\n",
    "import numpy as np\n",
    "import os\n",
    "from os import listdir\n",
    "import math\n",
    "\n",
    "# from edm4hep_path import get_edm4hep_path\n",
    "from podio.root_io import Reader\n",
    "\n",
    "ROOT.gInterpreter.LoadFile('/cvmfs/sw.hsf.org/key4hep/releases/2024-03-10/x86_64-ubuntu22.04-gcc11.4.0-opt/edm4hep/0.10.5-4hlcr2'\n",
    "+\"/include/edm4hep/utils/kinematics.h\")\n",
    "USE_ENERGY=edm4hep.utils.detail.UseEnergyTag()"
   ]
  },
  {
   "cell_type": "code",
   "execution_count": 3,
   "id": "4032fe9b-0d5e-4867-a353-5ffc302f4978",
   "metadata": {},
   "outputs": [],
   "source": [
    "get_edm4hep_path = '/cvmfs/sw.hsf.org/key4hep/releases/2024-03-10/x86_64-ubuntu22.04-gcc11.4.0-opt/edm4hep/0.10.5-4hlcr2'\n"
   ]
  },
  {
   "cell_type": "code",
   "execution_count": 4,
   "id": "0a1a30f5-ad4b-4556-b741-0f577eac88e5",
   "metadata": {
    "scrolled": true
   },
   "outputs": [],
   "source": [
    "# filename = \"/home/cinyu/ddfastshowerml2/scripts/CLD_dummyOutput_ML_Rot2_edm4hep.root\"\n",
    "filename_full = \"/home/cinyu/ddfastshowerml2/scripts/CLD_geant4_edm4hep.root\"\n",
    "filename_fast = \"/home/cinyu/ddfastshowerml2/scripts/CLD_fast_notracker_edm4hep.root\""
   ]
  },
  {
   "cell_type": "code",
   "execution_count": 5,
   "id": "c2261bd9",
   "metadata": {},
   "outputs": [
    {
     "name": "stdout",
     "output_type": "stream",
     "text": [
      "#events with more than one MC particles: 0 out of 100\n"
     ]
    }
   ],
   "source": [
    "reader = Reader(filename_fast)\n",
    "\n",
    "MCmorethanone = 0\n",
    "for i, event in enumerate(reader.get('events')):            \n",
    "    # print(event) \n",
    "    mcParticles = event.get(\"MCParticles\")\n",
    "    pIDs = np.array(mcParticles.PDG())\n",
    "    \n",
    "    if len(pIDs) != 1:\n",
    "        print(pIDs)\n",
    "        MCmorethanone += 1\n",
    "        continue\n",
    "\n",
    "\n",
    "print(\"#events with more than one MC particles:\",MCmorethanone, \"out of\", len(reader.get('events')))\n"
   ]
  },
  {
   "cell_type": "markdown",
   "id": "d1cf67d6",
   "metadata": {},
   "source": [
    "### histograms"
   ]
  },
  {
   "cell_type": "code",
   "execution_count": 6,
   "id": "8449f78f",
   "metadata": {},
   "outputs": [],
   "source": [
    "reader = Reader(filename_fast)\n",
    "\n",
    "hist_energy = ROOT.TH1F(\"energy\",\"cell energy hist\",100,-2,2)\n",
    "\n",
    "for i, event in enumerate(reader.get('events')):  \n",
    "    mcParticles = event.get(\"MCParticles\")\n",
    "    pIDs = np.array(mcParticles.PDG())\n",
    "    if len(pIDs) != 1:\n",
    "        continue\n",
    "    hit = event.get(\"ECalBarrelCollection\")\n",
    "    energies = np.array(hit.energy())\n",
    "    for energy in energies:\n",
    "        hist_energy.Fill(np.log10(energy)+3) # emergy in MeV for comparisonbreak\n",
    "\n"
   ]
  },
  {
   "cell_type": "code",
   "execution_count": 7,
   "id": "1475c29c",
   "metadata": {},
   "outputs": [
    {
     "name": "stderr",
     "output_type": "stream",
     "text": [
      "Warning in <TROOT::Append>: Replacing existing TH1: energy (Potential memory leak).\n"
     ]
    }
   ],
   "source": [
    "reader = Reader(filename_full)\n",
    "\n",
    "hist_energy2 = ROOT.TH1F(\"energy\",\"cell energy hist\",100,-2,2)\n",
    "\n",
    "for i, event in enumerate(reader.get('events')):  \n",
    "    if i == 50: break\n",
    "    mcParticles = event.get(\"MCParticles\")\n",
    "    pIDs = np.array(mcParticles.PDG())\n",
    "    if len(pIDs) != 1:\n",
    "        # print(pIDs)\n",
    "        continue\n",
    "    hit = event.get(\"ECalBarrelCollection\")\n",
    "    energies = np.array(hit.energy())\n",
    "    for energy in energies:\n",
    "        hist_energy2.Fill(np.log10(energy)+3) # emergy in MeV for comparison\n",
    "\n"
   ]
  },
  {
   "cell_type": "code",
   "execution_count": 8,
   "id": "99971181",
   "metadata": {},
   "outputs": [
    {
     "data": {
      "image/png": "[encoded data removed]",
      "text/plain": [
       "<IPython.core.display.Image object>"
      ]
     },
     "metadata": {},
     "output_type": "display_data"
    }
   ],
   "source": [
    "### Draw via ROOT\n",
    "c1 = ROOT.TCanvas()\n",
    "hist_energy.GetXaxis().SetTitle(\"log10(E/MeV)\")\n",
    "hist_energy.Scale(1/hist_energy.Integral())\n",
    "hist_energy2.Scale(1/hist_energy2.Integral())\n",
    "hist_energy2.SetLineColor(2)\n",
    "hist_energy.Draw()\n",
    "hist_energy2.Draw('SAME')\n",
    "c1.SetLogy()\n",
    "c1.Draw()\n"
   ]
  },
  {
   "cell_type": "markdown",
   "id": "73050015",
   "metadata": {},
   "source": [
    "### hit position"
   ]
  },
  {
   "cell_type": "code",
   "execution_count": 57,
   "id": "80642fce",
   "metadata": {},
   "outputs": [
    {
     "name": "stderr",
     "output_type": "stream",
     "text": [
      "Warning in <TROOT::Append>: Replacing existing TH1: x (Potential memory leak).\n"
     ]
    }
   ],
   "source": [
    "reader = Reader(filename_fast)\n",
    "\n",
    "hist_x = ROOT.TH1F(\"x\",\"hit x\",30,-240,240)\n",
    "\n",
    "for i, event in enumerate(reader.get('events')): \n",
    "    mcParticles = event.get(\"MCParticles\")\n",
    "    pIDs = np.array(mcParticles.PDG())\n",
    "    if len(pIDs) != 1:\n",
    "        continue\n",
    "    hits = event.get(\"ECalBarrelCollection\")\n",
    "    for hit in hits:\n",
    "        hist_x.Fill(hit.position().z)\n",
    "\n",
    "    \n",
    "\n"
   ]
  },
  {
   "cell_type": "code",
   "execution_count": 58,
   "id": "662c2f00",
   "metadata": {},
   "outputs": [
    {
     "name": "stderr",
     "output_type": "stream",
     "text": [
      "Warning in <TROOT::Append>: Replacing existing TH1: x (Potential memory leak).\n"
     ]
    }
   ],
   "source": [
    "reader = Reader(filename_full)\n",
    "\n",
    "hist_x2 = ROOT.TH1F(\"x\",\"hit x\",30,-240,240)\n",
    "\n",
    "for i, event in enumerate(reader.get('events')): \n",
    "    if i == 100: break\n",
    "    mcParticles = event.get(\"MCParticles\")\n",
    "    pIDs = np.array(mcParticles.PDG())\n",
    "    if len(pIDs) != 1:\n",
    "        continue\n",
    "    hits = event.get(\"ECalBarrelCollection\")\n",
    "    for hit in hits:\n",
    "        hist_x2.Fill(hit.position().z)\n",
    "\n",
    "    "
   ]
  },
  {
   "cell_type": "code",
   "execution_count": 59,
   "id": "38487a13",
   "metadata": {},
   "outputs": [
    {
     "data": {
      "image/png": "[encoded data removed]",
      "text/plain": [
       "<IPython.core.display.Image object>"
      ]
     },
     "metadata": {},
     "output_type": "display_data"
    }
   ],
   "source": [
    "### Draw via ROOT\n",
    "c1 = ROOT.TCanvas()\n",
    "hist_x.GetXaxis().SetTitle(\"x\")\n",
    "hist_x2.SetLineColor(2)\n",
    "hist_x.Draw()\n",
    "hist_x2.Draw('SAME')\n",
    "# c1.SetLogy()\n",
    "c1.Draw()\n"
   ]
  },
  {
   "cell_type": "markdown",
   "id": "7ab1a376-7435-4929-89ff-824939cddfa1",
   "metadata": {},
   "source": [
    "### Event Loop"
   ]
  },
  {
   "cell_type": "code",
   "execution_count": null,
   "id": "0b68fd21-59e4-4eb9-b990-fadc29de57d0",
   "metadata": {},
   "outputs": [],
   "source": [
    "def doEvtLoop(inputfiles,nbin,xmin,xmax,histtag,title):\n",
    "    \n",
    "    reader = Reader(inputfiles)\n",
    "    hist = ROOT.TH1F(histtag,title,nbin,xmin,xmax)\n",
    "\n",
    "    pxinitial = 0.\n",
    "    Einitial = 250. # considering resonance here\n",
    "    angle = 0.007 # crossing angle parameter, change as needed\n",
    "\n",
    "    pxinitial = Einitial*angle\n",
    "    Einitial = 2.*np.sqrt((Einitial/2.)**2 + (pxinitial/2.)**2)\n",
    "        \n",
    "    ecms = edm4hep.LorentzVectorE(pxinitial,0.,0.,Einitial)\n",
    "\n",
    "\n",
    "    for i, event in enumerate(reader.get('events')):            \n",
    "        \n",
    "        ## HANDS-ON!!\n",
    "        # We need to get the muon collection. \n",
    "        # Then we should put a cut: Take events with exactly TWO muons\n",
    "        # Use edmp4hep utils p4: This will put mu1 and mu2 into 4-vector\n",
    " \n",
    "        \n",
    "        # recoil mass calculations\n",
    "        recoil = ecms - (mu1 + mu2)\n",
    "        hist.Fill(recoil.M())\n",
    "        \n",
    "    return hist\n",
    "\n"
   ]
  },
  {
   "cell_type": "markdown",
   "id": "e28fef49-d95b-4d56-84f3-630dc82c01ab",
   "metadata": {},
   "source": [
    "### Running over samples"
   ]
  },
  {
   "cell_type": "code",
   "execution_count": null,
   "id": "03949657-851f-489b-91ea-0509b1ea2073",
   "metadata": {},
   "outputs": [
    {
     "ename": "runtime_error",
     "evalue": "void podio::ROOTReader::openFiles(const vector<string>& filenames) =>\n    runtime_error: File ../data/signal/E250-TDR_ws.Pe2e2h.Gwhizard-1_95.eL.pR.I106479.001.edm4hep.root couldn't be found",
     "output_type": "error",
     "traceback": [
      "\u001b[0;31m---------------------------------------------------------------------------\u001b[0m",
      "\u001b[0;31mruntime_error\u001b[0m                             Traceback (most recent call last)",
      "Cell \u001b[0;32mIn[3], line 4\u001b[0m\n\u001b[1;32m      1\u001b[0m signalDir \u001b[38;5;241m=\u001b[39m \u001b[38;5;124m'\u001b[39m\u001b[38;5;124m../data/signal/E250-TDR_ws.Pe2e2h.Gwhizard-1_95.eL.pR.I106479.001.edm4hep.root\u001b[39m\u001b[38;5;124m'\u001b[39m\n\u001b[1;32m      2\u001b[0m bkgDir \u001b[38;5;241m=\u001b[39m \u001b[38;5;124m'\u001b[39m\u001b[38;5;124m../data/bgk/E250-TDR_ws.P4f_zz_sl.Gwhizard-1_95.eL.pR.I106575.001.edm4hep.root\u001b[39m\u001b[38;5;124m'\u001b[39m\n\u001b[0;32m----> 4\u001b[0m sig_hist \u001b[38;5;241m=\u001b[39m \u001b[43mdoEvtLoop\u001b[49m\u001b[43m(\u001b[49m\u001b[43msignalDir\u001b[49m\u001b[43m,\u001b[49m\u001b[38;5;241;43m40\u001b[39;49m\u001b[43m,\u001b[49m\u001b[38;5;241;43m50.\u001b[39;49m\u001b[43m,\u001b[49m\u001b[38;5;241;43m250.\u001b[39;49m\u001b[43m,\u001b[49m\u001b[38;5;124;43m\"\u001b[39;49m\u001b[38;5;124;43msignal\u001b[39;49m\u001b[38;5;124;43m\"\u001b[39;49m\u001b[43m,\u001b[49m\u001b[38;5;124;43m\"\u001b[39;49m\u001b[38;5;124;43m; mass [GeV]; ; \u001b[39;49m\u001b[38;5;124;43m\"\u001b[39;49m\u001b[43m)\u001b[49m\n\u001b[1;32m      5\u001b[0m bkg_hist \u001b[38;5;241m=\u001b[39m doEvtLoop(bkgDir,\u001b[38;5;241m40\u001b[39m,\u001b[38;5;241m50.\u001b[39m,\u001b[38;5;241m250.\u001b[39m,\u001b[38;5;124m\"\u001b[39m\u001b[38;5;124mbkg\u001b[39m\u001b[38;5;124m\"\u001b[39m, \u001b[38;5;124m\"\u001b[39m\u001b[38;5;124m; mass [GeV]; ; \u001b[39m\u001b[38;5;124m\"\u001b[39m)\n",
      "Cell \u001b[0;32mIn[2], line 3\u001b[0m, in \u001b[0;36mdoEvtLoop\u001b[0;34m(inputfiles, nbin, xmin, xmax, histtag, title)\u001b[0m\n\u001b[1;32m      1\u001b[0m \u001b[38;5;28;01mdef\u001b[39;00m \u001b[38;5;21mdoEvtLoop\u001b[39m(inputfiles,nbin,xmin,xmax,histtag,title):\n\u001b[0;32m----> 3\u001b[0m     reader \u001b[38;5;241m=\u001b[39m \u001b[43mReader\u001b[49m\u001b[43m(\u001b[49m\u001b[43minputfiles\u001b[49m\u001b[43m)\u001b[49m\n\u001b[1;32m      4\u001b[0m     hist \u001b[38;5;241m=\u001b[39m ROOT\u001b[38;5;241m.\u001b[39mTH1F(histtag,title,nbin,xmin,xmax)\n\u001b[1;32m      6\u001b[0m     pxinitial \u001b[38;5;241m=\u001b[39m \u001b[38;5;241m0.\u001b[39m\n",
      "File \u001b[0;32m/cvmfs/sw.hsf.org/key4hep/releases/2024-03-10/x86_64-ubuntu22.04-gcc11.4.0-opt/podio/0.99-imoe5p/python/podio/root_io.py:26\u001b[0m, in \u001b[0;36mReader.__init__\u001b[0;34m(self, filenames)\u001b[0m\n\u001b[1;32m     23\u001b[0m     filenames \u001b[38;5;241m=\u001b[39m (filenames,)\n\u001b[1;32m     25\u001b[0m \u001b[38;5;28mself\u001b[39m\u001b[38;5;241m.\u001b[39m_reader \u001b[38;5;241m=\u001b[39m podio\u001b[38;5;241m.\u001b[39mROOTReader()\n\u001b[0;32m---> 26\u001b[0m \u001b[38;5;28;43mself\u001b[39;49m\u001b[38;5;241;43m.\u001b[39;49m\u001b[43m_reader\u001b[49m\u001b[38;5;241;43m.\u001b[39;49m\u001b[43mopenFiles\u001b[49m\u001b[43m(\u001b[49m\u001b[43mfilenames\u001b[49m\u001b[43m)\u001b[49m\n\u001b[1;32m     28\u001b[0m \u001b[38;5;28msuper\u001b[39m()\u001b[38;5;241m.\u001b[39m\u001b[38;5;21m__init__\u001b[39m()\n",
      "\u001b[0;31mruntime_error\u001b[0m: void podio::ROOTReader::openFiles(const vector<string>& filenames) =>\n    runtime_error: File ../data/signal/E250-TDR_ws.Pe2e2h.Gwhizard-1_95.eL.pR.I106479.001.edm4hep.root couldn't be found"
     ]
    },
    {
     "name": "stderr",
     "output_type": "stream",
     "text": [
      "Error in <TFile::TFile>: file /home/cinyu/tutorials/edm4hep_analysis/../data/signal/E250-TDR_ws.Pe2e2h.Gwhizard-1_95.eL.pR.I106479.001.edm4hep.root does not exist\n"
     ]
    }
   ],
   "source": [
    "signalDir = '../data/signal/E250-TDR_ws.Pe2e2h.Gwhizard-1_95.eL.pR.I106479.001.edm4hep.root'\n",
    "bkgDir = '../data/bgk/E250-TDR_ws.P4f_zz_sl.Gwhizard-1_95.eL.pR.I106575.001.edm4hep.root'\n",
    "\n",
    "sig_hist = doEvtLoop(signalDir,40,50.,250.,\"signal\",\"; mass [GeV]; ; \")\n",
    "bkg_hist = doEvtLoop(bkgDir,40,50.,250.,\"bkg\", \"; mass [GeV]; ; \")"
   ]
  },
  {
   "cell_type": "markdown",
   "id": "c14a3221-4f95-4ae2-b6b0-f4ef128d0d24",
   "metadata": {},
   "source": [
    "### Draw via ROOT"
   ]
  },
  {
   "cell_type": "code",
   "execution_count": null,
   "id": "24bf30bf-1fb9-4a5e-9d72-cc1e22ac4748",
   "metadata": {},
   "outputs": [
    {
     "ename": "NameError",
     "evalue": "name 'sig_hist' is not defined",
     "output_type": "error",
     "traceback": [
      "\u001b[0;31m---------------------------------------------------------------------------\u001b[0m",
      "\u001b[0;31mNameError\u001b[0m                                 Traceback (most recent call last)",
      "Cell \u001b[0;32mIn[4], line 2\u001b[0m\n\u001b[1;32m      1\u001b[0m c1 \u001b[38;5;241m=\u001b[39m ROOT\u001b[38;5;241m.\u001b[39mTCanvas()\n\u001b[0;32m----> 2\u001b[0m \u001b[43msig_hist\u001b[49m\u001b[38;5;241m.\u001b[39mDraw()\n\u001b[1;32m      3\u001b[0m hs \u001b[38;5;241m=\u001b[39m ROOT\u001b[38;5;241m.\u001b[39mTHStack(\u001b[38;5;124m\"\u001b[39m\u001b[38;5;124mhs\u001b[39m\u001b[38;5;124m\"\u001b[39m,\u001b[38;5;124m\"\u001b[39m\u001b[38;5;124m; mass [GeV]; ; \u001b[39m\u001b[38;5;124m\"\u001b[39m)\n\u001b[1;32m      4\u001b[0m leg \u001b[38;5;241m=\u001b[39m ROOT\u001b[38;5;241m.\u001b[39mTLegend(\u001b[38;5;241m0.5\u001b[39m,\u001b[38;5;241m0.6\u001b[39m,\u001b[38;5;241m0.9\u001b[39m,\u001b[38;5;241m0.9\u001b[39m)\n",
      "\u001b[0;31mNameError\u001b[0m: name 'sig_hist' is not defined"
     ]
    }
   ],
   "source": [
    "c1 = ROOT.TCanvas()\n",
    "sig_hist.Draw()\n",
    "hs = ROOT.THStack(\"hs\",\"; mass [GeV]; ; \")\n",
    "leg = ROOT.TLegend(0.5,0.6,0.9,0.9)\n",
    "leg.SetHeader(\"ILC at 250 GeV\")\n",
    "sig_hist.SetFillColor(2)\n",
    "leg.AddEntry(sig_hist, \"Signal\", \"F\")\n",
    "bkg_hist.SetFillColor(4)\n",
    "leg.AddEntry(bkg_hist, \"Bkg.\",\"F\")\n",
    "hs.Add(bkg_hist)\n",
    "hs.Add(sig_hist)\n",
    "hs.Draw()\n",
    "leg.Draw()\n",
    "c1.Draw()\n"
   ]
  },
  {
   "cell_type": "code",
   "execution_count": null,
   "id": "a3886df3-de27-4df1-b983-52b9ef1e8dd1",
   "metadata": {},
   "outputs": [],
   "source": []
  }
 ],
 "metadata": {
  "kernelspec": {
   "display_name": "Python 3 (ipykernel)",
   "language": "python",
   "name": "python3"
  },
  "language_info": {
   "codemirror_mode": {
    "name": "ipython",
    "version": 3
   },
   "file_extension": ".py",
   "mimetype": "text/x-python",
   "name": "python",
   "nbconvert_exporter": "python",
   "pygments_lexer": "ipython3",
   "version": "3.10.13"
  }
 },
 "nbformat": 4,
 "nbformat_minor": 5
}
